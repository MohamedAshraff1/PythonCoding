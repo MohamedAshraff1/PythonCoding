{
 "cells": [
  {
   "cell_type": "markdown",
   "id": "b4be43bc",
   "metadata": {},
   "source": [
    "# Pattern Prg"
   ]
  },
  {
   "cell_type": "code",
   "execution_count": 211,
   "id": "847f9571",
   "metadata": {},
   "outputs": [],
   "source": [
    "n=3"
   ]
  },
  {
   "cell_type": "code",
   "execution_count": 9,
   "id": "7136a5ba",
   "metadata": {},
   "outputs": [
    {
     "name": "stdout",
     "output_type": "stream",
     "text": [
      "* * * \n",
      "* * * \n",
      "* * * \n"
     ]
    }
   ],
   "source": [
    "for i in range(1,n+1):\n",
    "    for j in range(1,n+1):\n",
    "        print('*',end=' ')\n",
    "    print() #by default empty print have /n next line\n",
    "    \n",
    "    \n",
    "# * * *  #i=1,j=1,j=2,j=3\n",
    "# * * *  #i=2,j=1,j=2,j=3\n",
    "# * * *  #i=3,j=1,j=2,j=3"
   ]
  },
  {
   "cell_type": "code",
   "execution_count": 10,
   "id": "f27936ba",
   "metadata": {},
   "outputs": [],
   "source": [
    "n=5"
   ]
  },
  {
   "cell_type": "code",
   "execution_count": 13,
   "id": "07f0767a",
   "metadata": {},
   "outputs": [
    {
     "name": "stdout",
     "output_type": "stream",
     "text": [
      "* * * \n",
      "* * * \n",
      "* * * \n",
      "* * * \n",
      "* * * \n"
     ]
    }
   ],
   "source": [
    "for i in range(1,n+1):\n",
    "    for j in range(1,n+1-2):\n",
    "        print('*',end=' ')\n",
    "    print()\n",
    "    \n",
    "# * * *   second for loop n=5 (5-2) n=3 it print 3 star 5rows\n",
    "# * * * \n",
    "# * * * \n",
    "# * * * \n",
    "# * * * "
   ]
  },
  {
   "cell_type": "code",
   "execution_count": 14,
   "id": "e42a2abb",
   "metadata": {},
   "outputs": [],
   "source": [
    "n=5"
   ]
  },
  {
   "cell_type": "code",
   "execution_count": 17,
   "id": "ecb835ac",
   "metadata": {},
   "outputs": [
    {
     "name": "stdout",
     "output_type": "stream",
     "text": [
      "*         \n",
      "  *       \n",
      "    *     \n",
      "      *   \n",
      "        * \n"
     ]
    }
   ],
   "source": [
    "for i in range(1,n+1):\n",
    "    for j in range(1,n+1):\n",
    "        if i>j:\n",
    "            print(' ',end=' ')\n",
    "        elif i<j:\n",
    "            print(' ',end=' ')\n",
    "        if i==j:\n",
    "            print('*' ,end=' ')\n",
    "    print()"
   ]
  },
  {
   "cell_type": "code",
   "execution_count": 21,
   "id": "c0b2fee6",
   "metadata": {},
   "outputs": [
    {
     "name": "stdout",
     "output_type": "stream",
     "text": [
      "*         \n",
      "  *       \n",
      "    *     \n",
      "      *   \n",
      "        * \n"
     ]
    }
   ],
   "source": [
    "for i in range(1,n+1):\n",
    "    for j in range(1,n+1):\n",
    "        if i==j:\n",
    "            print('*',end=' ')\n",
    "        else:\n",
    "            print(' ',end=' ')\n",
    "    print()"
   ]
  },
  {
   "cell_type": "code",
   "execution_count": 26,
   "id": "4437ee12",
   "metadata": {},
   "outputs": [
    {
     "name": "stdout",
     "output_type": "stream",
     "text": [
      "  $ $ $ \n",
      "    $ $ \n",
      "      $ \n",
      "        \n"
     ]
    }
   ],
   "source": [
    "n=4\n",
    "for i in range(1,n+1):\n",
    "    for j in range(1,n+1):\n",
    "        if i<j:\n",
    "            print('$',end=' ')\n",
    "        else:\n",
    "            print(' ',end=' ')\n",
    "    print()"
   ]
  },
  {
   "cell_type": "code",
   "execution_count": 27,
   "id": "6c185f4a",
   "metadata": {},
   "outputs": [
    {
     "name": "stdout",
     "output_type": "stream",
     "text": [
      "* $ $ $ $ \n",
      "$ * $ $ $ \n",
      "$ $ * $ $ \n",
      "$ $ $ * $ \n",
      "$ $ $ $ * \n"
     ]
    }
   ],
   "source": [
    "n=5\n",
    "for i in range(1,n+1):\n",
    "    for j in range(1,n+1):\n",
    "        if i==j:\n",
    "            print('*',end=' ')\n",
    "        elif i<j:\n",
    "            print('$',end=' ')\n",
    "        elif i>j:\n",
    "            print('$',end=' ')\n",
    "    print()"
   ]
  },
  {
   "cell_type": "code",
   "execution_count": 30,
   "id": "c74b2440",
   "metadata": {},
   "outputs": [
    {
     "name": "stdout",
     "output_type": "stream",
     "text": [
      "*         \n",
      "$ *       \n",
      "$ $ *     \n",
      "$ $ $ *   \n",
      "$ $ $ $ * \n"
     ]
    }
   ],
   "source": [
    "n=5\n",
    "for i in range(1,n+1):\n",
    "    for j in range(1,n+1):\n",
    "        if i==j:\n",
    "            print('*',end=' ')\n",
    "        elif i>j:\n",
    "            print('$',end=' ')\n",
    "        else:\n",
    "            print(' ',end=' ')\n",
    "    print()\n",
    "    "
   ]
  },
  {
   "cell_type": "code",
   "execution_count": 35,
   "id": "b4dfa4c8",
   "metadata": {},
   "outputs": [
    {
     "name": "stdout",
     "output_type": "stream",
     "text": [
      "$         \n",
      "$ $       \n",
      "$ $ $     \n",
      "$ $ $ $   \n",
      "$ $ $ $ $ \n"
     ]
    }
   ],
   "source": [
    "n=5\n",
    "for i in range(1,n+1):\n",
    "    for j in range(1,n+1):\n",
    "        if i>=j:\n",
    "            print('$',end=' ')\n",
    "        else:\n",
    "            print(' ',end=' ')\n",
    "    print()\n",
    "# primary dignal with lower triangle "
   ]
  },
  {
   "cell_type": "markdown",
   "id": "7ae8035a",
   "metadata": {},
   "source": [
    "# secondary diagonal "
   ]
  },
  {
   "cell_type": "code",
   "execution_count": 54,
   "id": "0c46471a",
   "metadata": {},
   "outputs": [
    {
     "name": "stdout",
     "output_type": "stream",
     "text": [
      "* ^ ^ ^ ^ \n",
      "  * ^ ^ ^ \n",
      "    * ^ ^ \n",
      "      * ^ \n",
      "        * \n"
     ]
    }
   ],
   "source": [
    "n=5\n",
    "for i in range(1,n+1):\n",
    "    for j in range(1,n+1):\n",
    "        if i==j:\n",
    "            print('*',end=' ')\n",
    "        elif i<j:\n",
    "            print('^',end=' ')\n",
    "        else:\n",
    "            print(' ',end=' ')\n",
    "    print()"
   ]
  },
  {
   "cell_type": "code",
   "execution_count": 55,
   "id": "76f9f9fe",
   "metadata": {},
   "outputs": [
    {
     "name": "stdout",
     "output_type": "stream",
     "text": [
      "        * \n",
      "      * ^ \n",
      "    * ^ ^ \n",
      "  * ^ ^ ^ \n",
      "* ^ ^ ^ ^ \n"
     ]
    }
   ],
   "source": [
    "n=5\n",
    "for i in range(1,n+1):\n",
    "    for j in range(1,n+1):\n",
    "        if i+j==n+1:\n",
    "            print('*',end=' ')\n",
    "        elif i+j>n+1:\n",
    "            print('^',end=' ')\n",
    "        else:\n",
    "            print(' ',end=' ')\n",
    "    print()\n"
   ]
  },
  {
   "cell_type": "code",
   "execution_count": 56,
   "id": "0953a2df",
   "metadata": {},
   "outputs": [
    {
     "name": "stdout",
     "output_type": "stream",
     "text": [
      "$ $ $ $ $ \n",
      "$ $ $ $ ^ \n",
      "$ $ $ ^ ^ \n",
      "$ $ ^ ^ ^ \n",
      "$ ^ ^ ^ ^ \n"
     ]
    }
   ],
   "source": [
    "for i in range(1,n+1):\n",
    "    for j in range(1,n+1):\n",
    "        if i+j==n+1:\n",
    "            print('$',end=' ')\n",
    "        elif i+j<n+1:\n",
    "             print('$',end=' ')\n",
    "        elif i+j>n+1:\n",
    "            print('^',end=' ')\n",
    "    print()"
   ]
  },
  {
   "cell_type": "code",
   "execution_count": 60,
   "id": "be534244",
   "metadata": {},
   "outputs": [
    {
     "name": "stdout",
     "output_type": "stream",
     "text": [
      "* * * * * \n",
      "*       * \n",
      "*       * \n",
      "*       * \n",
      "* * * * * \n"
     ]
    }
   ],
   "source": [
    "n=5\n",
    "for i in range(1,n+1):\n",
    "    for j in range(1,n+1):\n",
    "        if i==1 or i==n:       #first and last line\n",
    "            print('*',end=' ')\n",
    "        elif j==1 or j==n:\n",
    "            print('*',end=' ')  #bost 2 side\n",
    "        else:\n",
    "            print(' ',end=' ')\n",
    "    print()"
   ]
  },
  {
   "cell_type": "code",
   "execution_count": 63,
   "id": "b9c1ba85",
   "metadata": {},
   "outputs": [
    {
     "name": "stdout",
     "output_type": "stream",
     "text": [
      "*       * \n",
      "  *   *   \n",
      "    *     \n",
      "  *   *   \n",
      "*       * \n"
     ]
    }
   ],
   "source": [
    "n=5\n",
    "for i in range(1,n+1):\n",
    "    for j in range(1,n+1):\n",
    "        if i==j:\n",
    "            print('*',end=' ')\n",
    "        elif i+j==n+1:\n",
    "            print('*',end=' ')\n",
    "        else:\n",
    "            print(' ',end=' ')\n",
    "    print()"
   ]
  },
  {
   "cell_type": "code",
   "execution_count": 81,
   "id": "869e7210",
   "metadata": {},
   "outputs": [
    {
     "name": "stdout",
     "output_type": "stream",
     "text": [
      "        *         \n",
      "        *         \n",
      "        *         \n",
      "        *         \n",
      "* * * * * * * * * \n",
      "        *         \n",
      "        *         \n",
      "        *         \n",
      "        *         \n"
     ]
    }
   ],
   "source": [
    "n=9\n",
    "for i in range(1,n+1):\n",
    "    for j in range(1,n+1):\n",
    "        if j==n//2+1:\n",
    "            print('*',end=' ')\n",
    "        elif i==n//2+1:\n",
    "            print('*',end=' ')\n",
    "        else:\n",
    "            print(' ',end=' ')\n",
    "    print()"
   ]
  },
  {
   "cell_type": "code",
   "execution_count": 93,
   "id": "6cacc861",
   "metadata": {},
   "outputs": [
    {
     "name": "stdout",
     "output_type": "stream",
     "text": [
      "* * * * * \n",
      "*   *   * \n",
      "* * * * * \n",
      "*   *   * \n",
      "* * * * * \n"
     ]
    }
   ],
   "source": [
    "n=5\n",
    "for i in range(1,n+1):\n",
    "    for j in range (1,n+1):\n",
    "        if j==n//2+1 or i==n//2+1:\n",
    "            print('*',end=' ')\n",
    "        elif i==1 or i==n or j==1 or j==n:\n",
    "            print('*',end=' ')\n",
    "        else:\n",
    "            print(' ',end=' ')\n",
    "    print()"
   ]
  },
  {
   "cell_type": "code",
   "execution_count": 96,
   "id": "467218d2",
   "metadata": {},
   "outputs": [
    {
     "name": "stdout",
     "output_type": "stream",
     "text": [
      "* * * * * * * * * * * \n",
      "* *               * * \n",
      "*   *           *   * \n",
      "*     *       *     * \n",
      "*       *   *       * \n",
      "*         *         * \n",
      "*       *   *       * \n",
      "*     *       *     * \n",
      "*   *           *   * \n",
      "* *               * * \n",
      "* * * * * * * * * * * \n"
     ]
    }
   ],
   "source": [
    "n=11\n",
    "for i in range(1,n+1):\n",
    "    for j in range(1,n+1):\n",
    "        if j==i or j+i==n+1 or i==1 or i==n or j==1 or j==n:\n",
    "            print('*',end=' ')\n",
    "        else:\n",
    "            print(' ',end=' ')\n",
    "    print()\n",
    "            "
   ]
  },
  {
   "cell_type": "code",
   "execution_count": 98,
   "id": "a96b63a2",
   "metadata": {},
   "outputs": [
    {
     "name": "stdout",
     "output_type": "stream",
     "text": [
      "* * * * * * * * * * * * * * * \n",
      "* *           *           * * \n",
      "*   *         *         *   * \n",
      "*     *       *       *     * \n",
      "*       *     *     *       * \n",
      "*         *   *   *         * \n",
      "*           * * *           * \n",
      "* * * * * * * * * * * * * * * \n",
      "*           * * *           * \n",
      "*         *   *   *         * \n",
      "*       *     *     *       * \n",
      "*     *       *       *     * \n",
      "*   *         *         *   * \n",
      "* *           *           * * \n",
      "* * * * * * * * * * * * * * * \n"
     ]
    }
   ],
   "source": [
    "n=15\n",
    "for i in range(1,n+1):\n",
    "    for j in range(1,n+1):\n",
    "        if j==i or j+i==n+1 or i==1 or i==n or j==1 or j==n or j==n//2+1 or i==n//2+1:\n",
    "            print('*',end=' ')\n",
    "        else:\n",
    "            print(' ',end=' ')\n",
    "    print()\n",
    "        "
   ]
  },
  {
   "cell_type": "code",
   "execution_count": 151,
   "id": "b29125af",
   "metadata": {},
   "outputs": [
    {
     "name": "stdout",
     "output_type": "stream",
     "text": [
      "          *           \n",
      "        *   *         \n",
      "      *       *       \n",
      "    *           *     \n",
      "  *               *   \n",
      "*                   * \n"
     ]
    }
   ],
   "source": [
    "row=6\n",
    "col=11\n",
    "for i in range(1,row+1):\n",
    "    for j in range(1,col+1):\n",
    "        if i+j==row+1 or j-i==row-1:\n",
    "             print('*',end=' ')\n",
    "        else:\n",
    "            print(' ',end=' ')\n",
    "    print()"
   ]
  },
  {
   "cell_type": "code",
   "execution_count": 153,
   "id": "23306536",
   "metadata": {},
   "outputs": [
    {
     "name": "stdout",
     "output_type": "stream",
     "text": [
      ".         .         . \n",
      "  .     .   .     .   \n",
      "    . .       . .     \n",
      "    . .       . .     \n",
      "  .     .   .     .   \n",
      ".         .         . \n"
     ]
    }
   ],
   "source": [
    "row=6\n",
    "col=11\n",
    "for i in range(1,row+1):\n",
    "    for j in range(1,col+1):\n",
    "        if i+j==row+1 or j-i==row-1 or i==j or i+j==col+1:\n",
    "             print('.',end=' ')\n",
    "        else:\n",
    "            print(' ',end=' ')\n",
    "    print()"
   ]
  },
  {
   "cell_type": "code",
   "execution_count": 164,
   "id": "c80e9dc2",
   "metadata": {},
   "outputs": [
    {
     "name": "stdout",
     "output_type": "stream",
     "text": [
      "1         \n",
      "1 2       \n",
      "1 2 3     \n",
      "1 2 3 4   \n",
      "1 2 3 4 5 \n"
     ]
    }
   ],
   "source": [
    "n=5\n",
    "for i in range(1,n+1):\n",
    "    for j in range(1,n+1):\n",
    "        if i>=j:\n",
    "            print(j,end=' ')\n",
    "        else:\n",
    "            print(' ',end=' ')\n",
    "    print()"
   ]
  },
  {
   "cell_type": "code",
   "execution_count": 167,
   "id": "40acbbc4",
   "metadata": {},
   "outputs": [
    {
     "name": "stdout",
     "output_type": "stream",
     "text": [
      "A           \n",
      "A B         \n",
      "A B C       \n",
      "A B C D     \n",
      "A B C D E   \n",
      "A B C D E F \n"
     ]
    }
   ],
   "source": [
    "n=6\n",
    "for i in range(1,n+1):\n",
    "    c=65\n",
    "    for j in range(1,n+1):\n",
    "        if i>=j:\n",
    "            print(chr(c),end=' ')\n",
    "            c+=1\n",
    "        else:\n",
    "            print(' ',end=' ')\n",
    "    print()"
   ]
  },
  {
   "cell_type": "code",
   "execution_count": 183,
   "id": "7ec9b65f",
   "metadata": {},
   "outputs": [
    {
     "name": "stdout",
     "output_type": "stream",
     "text": [
      "1 2 3 4 5 \n",
      "2 3 4 5 6 \n",
      "3 4 5 6 7 \n",
      "4 5 6 7 8 \n",
      "5 6 7 8 9 \n"
     ]
    }
   ],
   "source": [
    "n=5\n",
    "for i in range(1,n+1):\n",
    "    for j in range(i,i+n):\n",
    "        print(j,end=' ')\n",
    "    print()"
   ]
  },
  {
   "cell_type": "code",
   "execution_count": 210,
   "id": "95f9d929",
   "metadata": {},
   "outputs": [
    {
     "name": "stdout",
     "output_type": "stream",
     "text": [
      "1 2 3 4 5 \n",
      "  2 3 4 5 \n",
      "    3 4 5 \n",
      "      4 5 \n",
      "        5 \n"
     ]
    }
   ],
   "source": [
    "n=5\n",
    "for i in range(1,n+1):\n",
    "    for j in range(1,n+1):\n",
    "        if i<=j:\n",
    "            print(j,end=' ')\n",
    "        else:\n",
    "            print(' ',end=' ')\n",
    "    print()"
   ]
  },
  {
   "cell_type": "code",
   "execution_count": 198,
   "id": "c1f717ae",
   "metadata": {},
   "outputs": [
    {
     "name": "stdout",
     "output_type": "stream",
     "text": [
      "1 2 3 4 5 \n",
      "1 4 9 16 25 \n",
      "1 2 3 4 5 \n",
      "1 4 9 16 25 \n",
      "1 2 3 4 5 \n"
     ]
    }
   ],
   "source": [
    "n=5\n",
    "for i in range(1,n+1):\n",
    "    for j in range(1,n+1):\n",
    "        if i%2==0:\n",
    "            print(j**2,end=' ')\n",
    "        else:\n",
    "            print(j,end=' ')\n",
    "    print()"
   ]
  },
  {
   "cell_type": "code",
   "execution_count": 203,
   "id": "6d021625",
   "metadata": {},
   "outputs": [
    {
     "name": "stdout",
     "output_type": "stream",
     "text": [
      "1 2 3 4 5 \n",
      "  1 4 9 16 \n",
      "    1 2 3 \n",
      "      1 4 \n",
      "        1 \n"
     ]
    }
   ],
   "source": [
    "n=5\n",
    "for i in range(1,n+1):\n",
    "    k=1\n",
    "    for j in range(1,n+1):\n",
    "        if i<=j:\n",
    "            if i%2==0:\n",
    "                print(k**2,end=' ')\n",
    "                k+=1\n",
    "            else:\n",
    "                print(k,end=' ')\n",
    "                k+=1\n",
    "        else:\n",
    "            print(' ',end=' ')\n",
    "    print()"
   ]
  },
  {
   "cell_type": "code",
   "execution_count": 209,
   "id": "45ec1cf0",
   "metadata": {},
   "outputs": [
    {
     "name": "stdout",
     "output_type": "stream",
     "text": [
      "A         \n",
      "1 2       \n",
      "A B C     \n",
      "1 2 3 4   \n",
      "A B C D E \n"
     ]
    }
   ],
   "source": [
    "n=5\n",
    "for i in range(1,n+1):\n",
    "    k=1\n",
    "    c=65\n",
    "    for j in range(1,n+1):\n",
    "        if i>=j:\n",
    "            if i%2==0:\n",
    "                print(k,end=' ')\n",
    "                k+=1\n",
    "            else:\n",
    "                print(chr(c),end=' ')\n",
    "                c+=1\n",
    "        else:\n",
    "            print(' ',end=' ')\n",
    "    print()\n",
    "        "
   ]
  },
  {
   "cell_type": "code",
   "execution_count": 46,
   "id": "92e3ab84",
   "metadata": {},
   "outputs": [
    {
     "name": "stdout",
     "output_type": "stream",
     "text": [
      "* * * *   \n",
      "*       * \n",
      "* * * *   \n",
      "*         \n",
      "*         \n"
     ]
    }
   ],
   "source": [
    "n=5\n",
    "for i in range(1,n+1):\n",
    "    for j in range(1,n+1):\n",
    "        if j==1 or (i==1 and j<n) or (i==n//2+1 and j<n) or (j==n and 1<i<n//2+1):\n",
    "            print('*',end=' ')\n",
    "        else:\n",
    "            print(' ',end=' ')\n",
    "    print()"
   ]
  },
  {
   "cell_type": "code",
   "execution_count": 73,
   "id": "99c530ac",
   "metadata": {},
   "outputs": [
    {
     "name": "stdout",
     "output_type": "stream",
     "text": [
      "*       * \n",
      "  *   *   \n",
      "    *     \n",
      "    *     \n",
      "    *     \n"
     ]
    }
   ],
   "source": [
    "n=5\n",
    "for i in range(1,n+1):\n",
    "    for j in range(1,n+1):\n",
    "        if (j==n//2+1 and i>=n//2+1) or (i==j and i<n//2+1) or (i+j==n+1 and i < n//2+1):\n",
    "            print('*',end=' ')\n",
    "        else:\n",
    "            print(' ',end=' ')\n",
    "    print()"
   ]
  },
  {
   "cell_type": "code",
   "execution_count": 137,
   "id": "3bb59be5",
   "metadata": {},
   "outputs": [
    {
     "name": "stdout",
     "output_type": "stream",
     "text": [
      "* * * * * \n",
      "    *     \n",
      "    *     \n",
      "    *     \n",
      "    *     \n"
     ]
    }
   ],
   "source": [
    "n=5\n",
    "for i in range(1,n+1):\n",
    "    for j in range(1,n+1):\n",
    "        if i==1 or j==n//2+1:\n",
    "            print('*',end=' ')\n",
    "        else:\n",
    "            print(' ',end=' ')\n",
    "    print()"
   ]
  },
  {
   "cell_type": "code",
   "execution_count": 138,
   "id": "67d19ad3",
   "metadata": {},
   "outputs": [
    {
     "name": "stdout",
     "output_type": "stream",
     "text": [
      "*       * \n",
      "*       * \n",
      "* * * * * \n",
      "*       * \n",
      "*       * \n"
     ]
    }
   ],
   "source": [
    "n=5\n",
    "for i in range(1,n+1):\n",
    "    for j in range(1,n+1):\n",
    "        if j==1 or i==n//2+1 or j==n:\n",
    "            print('*',end=' ')\n",
    "        else:\n",
    "            print(' ',end=' ')\n",
    "    print()\n",
    "            "
   ]
  },
  {
   "cell_type": "code",
   "execution_count": 120,
   "id": "37b62c38",
   "metadata": {},
   "outputs": [
    {
     "name": "stdout",
     "output_type": "stream",
     "text": [
      "  * * *   \n",
      "*       * \n",
      "*       * \n",
      "*       * \n",
      "  * * *   \n"
     ]
    }
   ],
   "source": [
    "n=5\n",
    "for i in range(1,n+1):\n",
    "    for j in range(1,n+1):\n",
    "        if (j==1 and 1<i<n) or (j==n and 1<i<n) or (i==n and 1<j<n) or (i==1 and 1<j<n) :\n",
    "             print('*',end=' ')\n",
    "        else:\n",
    "            print(' ',end=' ')\n",
    "    print()\n",
    "            \n",
    "        "
   ]
  },
  {
   "cell_type": "code",
   "execution_count": 123,
   "id": "4a94f100",
   "metadata": {},
   "outputs": [
    {
     "name": "stdout",
     "output_type": "stream",
     "text": [
      "*       * \n",
      "* *     * \n",
      "*   *   * \n",
      "*     * * \n",
      "*       * \n"
     ]
    }
   ],
   "source": [
    "n=5\n",
    "for i in range(1,n+1):\n",
    "    for j in range(1,n+1):\n",
    "        if j==1 or i==j or j==n:\n",
    "              print('*',end=' ')\n",
    "        else:\n",
    "            print(' ',end=' ')\n",
    "    print()\n",
    "            \n",
    "            "
   ]
  },
  {
   "cell_type": "code",
   "execution_count": 135,
   "id": "6ad66db6",
   "metadata": {},
   "outputs": [
    {
     "name": "stdout",
     "output_type": "stream",
     "text": [
      "* * * * * *   *           * * * * * * * * *       *       * * * * *   *           * \n",
      "*           *   *       *       *         *       *     *           * * *         * \n",
      "*           *     *   *         *         * * * * * * * *           * *   *       * \n",
      "* * * * * *         *           *         *       *     *           * *     *     * \n",
      "*                   *           *         *       *     *           * *       *   * \n",
      "*                   *           *         *       *     *           * *         * * \n",
      "*                   *           *         *       *       * * * * *   *           * \n"
     ]
    }
   ],
   "source": [
    "n=7\n",
    "for i in range(1,n+1):\n",
    "    for j in range(1,n+1):\n",
    "        if j==1 or (i==1 and j<n) or (i==n//2+1 and j<n) or (j==n and 1<i<n//2+1):\n",
    "            print('*',end=' ')\n",
    "        else:\n",
    "            print(' ',end=' ')\n",
    "    for  j in range(1,n+1):\n",
    "        if (j==n//2+1 and i>=n//2+1) or (i==j and i<n//2+1) or (i+j==n+1 and i < n//2+1):\n",
    "            print('*',end=' ')\n",
    "        else:\n",
    "            print(' ',end=' ') \n",
    "    for j in range(1,n+1):\n",
    "        if i==1 or j==3:\n",
    "            print('*',end=' ')\n",
    "        else:\n",
    "            print(' ',end=' ')\n",
    "    for j in range(1,n+1):\n",
    "        if j==1 or i==3 or j==5:\n",
    "            print('*',end=' ')\n",
    "        else:\n",
    "            print(' ',end=' ')\n",
    "    for j in range(1,n+1):\n",
    "        if (j==1 and 1<i<n) or (j==n and 1<i<n) or (i==n and 1<j<n) or (i==1 and 1<j<n) :\n",
    "             print('*',end=' ')\n",
    "        else:\n",
    "            print(' ',end=' ')\n",
    "    for j in range(1,n+1):\n",
    "        if j==1 or i==j or j==n:\n",
    "              print('*',end=' ')\n",
    "        else:\n",
    "            print(' ',end=' ')\n",
    "    print()\n",
    "    "
   ]
  },
  {
   "cell_type": "code",
   "execution_count": 98,
   "id": "87fd5982",
   "metadata": {},
   "outputs": [
    {
     "name": "stdout",
     "output_type": "stream",
     "text": [
      "  * * * * *   \n",
      "*           * \n",
      "*           * \n",
      "* * * * * * * \n",
      "*           * \n",
      "*           * \n",
      "*           * \n"
     ]
    }
   ],
   "source": [
    "n=7\n",
    "for i in range(1,n+1):\n",
    "    for j in range(1,n+1):\n",
    "        if (j==1 and i>1) or (i==1 and 1<j<n) or (j==n and i>1) or (i==n//2+1 and 1<j<n):\n",
    "            print('*',end=' ')\n",
    "        else:\n",
    "            print(' ',end=' ')\n",
    "    print()"
   ]
  },
  {
   "cell_type": "code",
   "execution_count": 96,
   "id": "d7089654",
   "metadata": {},
   "outputs": [
    {
     "name": "stdout",
     "output_type": "stream",
     "text": [
      "* * * * * *   \n",
      "*           * \n",
      "*           * \n",
      "* * * * * *   \n",
      "*           * \n",
      "*           * \n",
      "* * * * * *   \n"
     ]
    }
   ],
   "source": [
    "n=7\n",
    "for i in range(1,n+1):\n",
    "    for j in range(1,n+1):\n",
    "        if j==1 or (i==1 and j<n) or (i==n and j<n) or (j==n and 1<i<n and i!=n//2+1) or (i==n//2+1 and j<n):\n",
    "                 print('*',end=' ')\n",
    "        else:\n",
    "            print(' ',end=' ')\n",
    "    print()\n",
    "            "
   ]
  },
  {
   "cell_type": "code",
   "execution_count": 95,
   "id": "c2fa35e0",
   "metadata": {},
   "outputs": [
    {
     "name": "stdout",
     "output_type": "stream",
     "text": [
      "  * * * * *   \n",
      "*             \n",
      "*             \n",
      "*             \n",
      "*             \n",
      "*             \n",
      "  * * * * *   \n"
     ]
    }
   ],
   "source": [
    "n=7\n",
    "for i in range(1,n+1):\n",
    "    for j in range(1,n+1):\n",
    "        if (i==1 and 1<j<n) or (i==n and 1<j<n) or j==1 and 1<i<n:\n",
    "            print('*',end=' ')\n",
    "        else:\n",
    "            print(' ',end=' ')\n",
    "    print()\n",
    "            "
   ]
  },
  {
   "cell_type": "code",
   "execution_count": 94,
   "id": "bf843706",
   "metadata": {},
   "outputs": [
    {
     "name": "stdout",
     "output_type": "stream",
     "text": [
      "* * * *   \n",
      "*       * \n",
      "*       * \n",
      "*       * \n",
      "* * * *   \n"
     ]
    }
   ],
   "source": [
    "n=5\n",
    "for i in range(1,n+1):\n",
    "    for j in range(1,n+1):\n",
    "        if (i==1 and j<n) or (j==n and 1<i<n) or (j==1 and 1<i<n) or (i==n and j<n):\n",
    "            print('*',end=' ')\n",
    "        else:\n",
    "            print(' ',end=' ')\n",
    "    print()"
   ]
  },
  {
   "cell_type": "code",
   "execution_count": 67,
   "id": "d2ff07ab",
   "metadata": {},
   "outputs": [
    {
     "name": "stdout",
     "output_type": "stream",
     "text": [
      "* * * * * \n",
      "*         \n",
      "* * * *   \n",
      "*         \n",
      "* * * * * \n"
     ]
    }
   ],
   "source": [
    "n=5\n",
    "for i in range(1,n+1):\n",
    "    for j in range(1,n+1):\n",
    "        if j==1 or i==1 or i==n//2+1 and j<n or i==n:\n",
    "            print('*',end=' ')\n",
    "        else:\n",
    "            print(' ',end=' ')\n",
    "    print()"
   ]
  },
  {
   "cell_type": "code",
   "execution_count": 69,
   "id": "4899efb6",
   "metadata": {},
   "outputs": [
    {
     "name": "stdout",
     "output_type": "stream",
     "text": [
      "* * * * * \n",
      "*         \n",
      "* * * *   \n",
      "*         \n",
      "*         \n"
     ]
    }
   ],
   "source": [
    "n=5\n",
    "for i in range(1,n+1):\n",
    "    for j in range(1,n+1):\n",
    "        if j==1 or i==1 or i==n//2+1 and j<n:\n",
    "            print('*',end=' ')\n",
    "        else:\n",
    "            print(' ',end=' ')\n",
    "    print()"
   ]
  },
  {
   "cell_type": "code",
   "execution_count": 102,
   "id": "c2d8cb1a",
   "metadata": {},
   "outputs": [
    {
     "name": "stdout",
     "output_type": "stream",
     "text": [
      "  * * * * *   \n",
      "*             \n",
      "*             \n",
      "*     * * * * \n",
      "*           * \n",
      "*           * \n",
      "  * * * * *   \n"
     ]
    }
   ],
   "source": [
    "n=7\n",
    "for i in range(1,n+1):\n",
    "    for j in range(1,n+1):\n",
    "        if (i==1 and 1<j<n) or (j==1 and 1<i<n) or (i==n and 1<j<n) or (j==n and n//2<i<n) or (i==n//2+1 and n//2<j<n): \n",
    "            print('*',end=' ')\n",
    "        else:\n",
    "            print(' ',end=' ')\n",
    "    print()"
   ]
  },
  {
   "cell_type": "code",
   "execution_count": 103,
   "id": "f4df50de",
   "metadata": {},
   "outputs": [
    {
     "name": "stdout",
     "output_type": "stream",
     "text": [
      "*           * \n",
      "*           * \n",
      "*           * \n",
      "* * * * * * * \n",
      "*           * \n",
      "*           * \n",
      "*           * \n"
     ]
    }
   ],
   "source": [
    "n=7\n",
    "for i in range(1,n+1):\n",
    "    for j in range(1,n+1):\n",
    "        if j==1 or j==n or i==n//2+1:\n",
    "            print('*',end=' ')\n",
    "        else:\n",
    "            print(' ',end=' ')\n",
    "    print()"
   ]
  },
  {
   "cell_type": "code",
   "execution_count": 111,
   "id": "485aec9f",
   "metadata": {},
   "outputs": [
    {
     "name": "stdout",
     "output_type": "stream",
     "text": [
      "* * * * * * * \n",
      "      *       \n",
      "      *       \n",
      "      *       \n",
      "      *       \n",
      "      *       \n",
      "* * * * * * * \n"
     ]
    }
   ],
   "source": [
    "n=7\n",
    "for i in range(1,n+1):\n",
    "    for j in range(1,n+1):\n",
    "        if i==1 or (j==n//2+1 and 1<i<n) or i==n:\n",
    "            print('*',end=' ')\n",
    "        else:\n",
    "            print(' ',end=' ')\n",
    "    print()"
   ]
  },
  {
   "cell_type": "code",
   "execution_count": 123,
   "id": "059d8665",
   "metadata": {},
   "outputs": [
    {
     "name": "stdout",
     "output_type": "stream",
     "text": [
      "* * * * * * * \n",
      "      *       \n",
      "      *       \n",
      "      *       \n",
      "*     *       \n",
      "*     *       \n",
      "  * *         \n"
     ]
    }
   ],
   "source": [
    "n=7\n",
    "for i in range(1,n+1):\n",
    "    for j in range(1,n+1):\n",
    "        if i==1 or (j==n//2+1 and 1<i<n) or (i==n and 1<j<n//2+1<n) or j==1 and n//2+1<i<n:\n",
    "            print('*',end=' ')\n",
    "        else:\n",
    "            print(' ',end=' ')\n",
    "    print()"
   ]
  },
  {
   "cell_type": "code",
   "execution_count": 148,
   "id": "460d85f1",
   "metadata": {},
   "outputs": [
    {
     "name": "stdout",
     "output_type": "stream",
     "text": [
      "*           * \n",
      "*         *   \n",
      "*       *     \n",
      "* * * *       \n",
      "*       *     \n",
      "*         *   \n",
      "*           * \n"
     ]
    }
   ],
   "source": [
    "n=7\n",
    "for i in range(1,n+1):\n",
    "    for j in range(1,n+1):\n",
    "        if j==1 or (n//2+1==i and j<=n//2+1) or (i+j==n+1 and i<n//2+1) or (i==j and i>n//2+1):\n",
    "            print('*',end=' ')\n",
    "        else:\n",
    "            print(' ',end=' ')\n",
    "    print()"
   ]
  },
  {
   "cell_type": "code",
   "execution_count": 151,
   "id": "e20c2a51",
   "metadata": {},
   "outputs": [
    {
     "name": "stdout",
     "output_type": "stream",
     "text": [
      "*             \n",
      "*             \n",
      "*             \n",
      "*             \n",
      "*             \n",
      "*             \n",
      "* * * * * *   \n"
     ]
    }
   ],
   "source": [
    "n=7\n",
    "for i in range(1,n+1):\n",
    "    for j in range(1,n+1):\n",
    "        if j==1 or i==n and j<n:\n",
    "            print('*',end=' ')\n",
    "        else:\n",
    "            print(' ',end=' ')\n",
    "    print()"
   ]
  },
  {
   "cell_type": "code",
   "execution_count": 169,
   "id": "06f7c3ea",
   "metadata": {},
   "outputs": [
    {
     "name": "stdout",
     "output_type": "stream",
     "text": [
      "*           * \n",
      "* *       * * \n",
      "*   *   *   * \n",
      "*     *     * \n",
      "*           * \n",
      "*           * \n",
      "              \n"
     ]
    }
   ],
   "source": [
    "n=7\n",
    "for i in range(1,n+1):\n",
    "    for j in range(1,n+1):\n",
    "        if j==1 and i<n or (i==j and j<n-2) or (i+j==n+1 and i<n//2+1) or j==n and i<n:\n",
    "            print('*',end=' ')\n",
    "        else:\n",
    "            print(' ',end=' ')\n",
    "    print()"
   ]
  },
  {
   "cell_type": "code",
   "execution_count": 178,
   "id": "0d5cc554",
   "metadata": {},
   "outputs": [
    {
     "name": "stdout",
     "output_type": "stream",
     "text": [
      "*           * \n",
      "* *         * \n",
      "*   *       * \n",
      "*     *     * \n",
      "*       *   * \n",
      "*         * * \n",
      "*           * \n"
     ]
    }
   ],
   "source": [
    "n=7\n",
    "for i in range(1,n+1):\n",
    "    for j in range(1,n+1):\n",
    "        if j==1 or (i==j and j<=n) or j==n:\n",
    "            print('*',end=' ')\n",
    "        else:\n",
    "            print(' ',end=' ')\n",
    "    print()"
   ]
  },
  {
   "cell_type": "code",
   "execution_count": 179,
   "id": "0d0b3032",
   "metadata": {},
   "outputs": [
    {
     "name": "stdout",
     "output_type": "stream",
     "text": [
      "  * * *   \n",
      "*       * \n",
      "*       * \n",
      "*       * \n",
      "  * * *   \n"
     ]
    }
   ],
   "source": [
    "n=5\n",
    "for i in range(1,n+1):\n",
    "    for j in range(1,n+1):\n",
    "        if (j==1 and 1<i<n) or (j==n and 1<i<n) or (i==n and 1<j<n) or (i==1 and 1<j<n) :\n",
    "             print('*',end=' ')\n",
    "        else:\n",
    "            print(' ',end=' ')\n",
    "    print()"
   ]
  },
  {
   "cell_type": "code",
   "execution_count": 180,
   "id": "fa121453",
   "metadata": {},
   "outputs": [
    {
     "name": "stdout",
     "output_type": "stream",
     "text": [
      "* * * *   \n",
      "*       * \n",
      "* * * *   \n",
      "*         \n",
      "*         \n"
     ]
    }
   ],
   "source": [
    "n=5\n",
    "for i in range(1,n+1):\n",
    "    for j in range(1,n+1):\n",
    "        if j==1 or (i==1 and j<n) or (i==n//2+1 and j<n) or (j==n and 1<i<n//2+1):\n",
    "            print('*',end=' ')\n",
    "        else:\n",
    "            print(' ',end=' ')\n",
    "    print()"
   ]
  },
  {
   "cell_type": "code",
   "execution_count": 191,
   "id": "7ae2349b",
   "metadata": {},
   "outputs": [
    {
     "name": "stdout",
     "output_type": "stream",
     "text": [
      "  * * * * *   \n",
      "*           * \n",
      "*           * \n",
      "*           * \n",
      "*       *   * \n",
      "*         * * \n",
      "  * * * * * * \n"
     ]
    }
   ],
   "source": [
    "n=7\n",
    "for i in range(1,n+1):\n",
    "    for j in range(1,n+1):\n",
    "        if (j==1 and 1<i<n) or (j==n and 1<i<n) or (i==n and 1<j<n ) or (i==1 and 1<j<n) or (i==j and i>n//2+1):\n",
    "             print('*',end=' ')\n",
    "        else:\n",
    "            print(' ',end=' ')\n",
    "    print()"
   ]
  },
  {
   "cell_type": "code",
   "execution_count": 194,
   "id": "a478999d",
   "metadata": {},
   "outputs": [
    {
     "name": "stdout",
     "output_type": "stream",
     "text": [
      "* * * * * *   \n",
      "*           * \n",
      "*           * \n",
      "* * * * * *   \n",
      "*       *     \n",
      "*         *   \n",
      "*           * \n"
     ]
    }
   ],
   "source": [
    "n=7\n",
    "for i in range(1,n+1):\n",
    "    for j in range(1,n+1):\n",
    "        if j==1 or (i==1 and j<n) or (i==n//2+1 and j<n) or (j==n and 1<i<n//2+1) or (i==j and i>n//2+1):\n",
    "            print('*',end=' ')\n",
    "        else:\n",
    "            print(' ',end=' ')\n",
    "    print()"
   ]
  },
  {
   "cell_type": "code",
   "execution_count": 235,
   "id": "9829acb9",
   "metadata": {},
   "outputs": [
    {
     "name": "stdout",
     "output_type": "stream",
     "text": [
      "  * * * * \n",
      "*         \n",
      "  * * *   \n",
      "        * \n",
      "* * * *   \n"
     ]
    }
   ],
   "source": [
    "n=5\n",
    "for i in range(1,n+1):\n",
    "    for j in range(1,n+1):\n",
    "        if i==1 and 1<j<n+1  or j==1 and 1<i<n-2 or i==n//2+1 and 1<j<n or j==n and n//2+1<i<n or  i==n and j<n:\n",
    "            print('*',end=' ')\n",
    "        else:\n",
    "            print(' ',end=' ')\n",
    "    print()"
   ]
  },
  {
   "cell_type": "markdown",
   "id": "98bf2a14",
   "metadata": {},
   "source": [
    "# oops prg"
   ]
  },
  {
   "cell_type": "code",
   "execution_count": 69,
   "id": "53c1f940",
   "metadata": {},
   "outputs": [],
   "source": [
    "class flipkart:\n",
    "    def __init__(self,product,price,qt):\n",
    "        self.product=product\n",
    "        self.price=price\n",
    "        self.qt=qt \n",
    "    def display(self):\n",
    "        print(self.__dict__)\n",
    "class buy(flipkart):\n",
    "    def __init__(self,name,address,phno,landmark,product,price,qt):\n",
    "        super().__init__(product,price,qt) \n",
    "        self.product=product\n",
    "        self.name=name\n",
    "        self.address=address\n",
    "        self.phno=phno\n",
    "        self.landmark=landmark\n",
    "    def display(self):\n",
    "        super().display()\n"
   ]
  },
  {
   "cell_type": "code",
   "execution_count": 70,
   "id": "e71f13db",
   "metadata": {},
   "outputs": [
    {
     "name": "stdout",
     "output_type": "stream",
     "text": [
      "{'product': 'iphone', 'price': '1234', 'qt': 1, 'name': 'ash', 'address': '9183', 'phno': '9863428', 'landmark': '821937'}\n"
     ]
    }
   ],
   "source": [
    "a=buy('ash','9183','9863428','821937','iphone','1234',1)\n",
    "a.display()\n"
   ]
  },
  {
   "cell_type": "markdown",
   "id": "5753a44f",
   "metadata": {},
   "source": [
    "# property dec"
   ]
  },
  {
   "cell_type": "code",
   "execution_count": null,
   "id": "89477aef",
   "metadata": {},
   "outputs": [],
   "source": [
    "# wap to access private meb in class"
   ]
  },
  {
   "cell_type": "code",
   "execution_count": 123,
   "id": "1cf54f5c",
   "metadata": {},
   "outputs": [],
   "source": [
    "class pri:\n",
    "    def __init__(self,a,b):\n",
    "        self.__a=a\n",
    "        self.b=b\n",
    "    @property\n",
    "    def a(self):\n",
    "        return self.__a\n",
    "    @a.setter\n",
    "    def a(self,new):\n",
    "        self.__a=new\n",
    "    "
   ]
  },
  {
   "cell_type": "code",
   "execution_count": 124,
   "id": "5e73fe41",
   "metadata": {},
   "outputs": [],
   "source": [
    "obj=pri(10,20)"
   ]
  },
  {
   "cell_type": "code",
   "execution_count": 125,
   "id": "cf08bde0",
   "metadata": {},
   "outputs": [
    {
     "data": {
      "text/plain": [
       "10"
      ]
     },
     "execution_count": 125,
     "metadata": {},
     "output_type": "execute_result"
    }
   ],
   "source": [
    "obj.a"
   ]
  },
  {
   "cell_type": "code",
   "execution_count": 126,
   "id": "09afb5cf",
   "metadata": {},
   "outputs": [],
   "source": [
    "obj.a=100"
   ]
  },
  {
   "cell_type": "code",
   "execution_count": 127,
   "id": "b04ebda7",
   "metadata": {},
   "outputs": [
    {
     "data": {
      "text/plain": [
       "100"
      ]
     },
     "execution_count": 127,
     "metadata": {},
     "output_type": "execute_result"
    }
   ],
   "source": [
    "obj.a"
   ]
  },
  {
   "cell_type": "code",
   "execution_count": 129,
   "id": "4927a59f",
   "metadata": {},
   "outputs": [],
   "source": [
    "class sam:\n",
    "    def __init__(self,c,d):\n",
    "        self.c=c\n",
    "        self.d=d\n",
    "    def up(self,new):\n",
    "        self.c=new\n",
    "    def acc(self):\n",
    "        print(self.__dict__)\n",
    "ob=sam(10,20)"
   ]
  },
  {
   "cell_type": "code",
   "execution_count": 130,
   "id": "7fa1b405",
   "metadata": {},
   "outputs": [],
   "source": [
    "ob.up(100)"
   ]
  },
  {
   "cell_type": "code",
   "execution_count": 136,
   "id": "557f2634",
   "metadata": {},
   "outputs": [
    {
     "name": "stdout",
     "output_type": "stream",
     "text": [
      "{'c': 100, 'd': 20}\n"
     ]
    }
   ],
   "source": [
    "ob.acc()"
   ]
  },
  {
   "cell_type": "code",
   "execution_count": 184,
   "id": "03f91bbf",
   "metadata": {},
   "outputs": [],
   "source": [
    "# create a range function in class\n",
    "class ran:\n",
    "    def __init__(self,sv,ev,up=1):\n",
    "        self.sv=sv\n",
    "        self.ev=ev\n",
    "        self.up=up\n",
    "    def __iter__(self):\n",
    "        return self\n",
    "    def __next__(self):\n",
    "        if self.sv>=self.ev:\n",
    "            raise StopIteration\n",
    "        res=self.sv\n",
    "        self.sv+=self.up\n",
    "        return res"
   ]
  },
  {
   "cell_type": "code",
   "execution_count": 185,
   "id": "beccd730",
   "metadata": {},
   "outputs": [],
   "source": [
    "ob=ran(1,10)"
   ]
  },
  {
   "cell_type": "code",
   "execution_count": 186,
   "id": "4f3e9eea",
   "metadata": {},
   "outputs": [
    {
     "name": "stdout",
     "output_type": "stream",
     "text": [
      "1\n",
      "2\n",
      "3\n",
      "4\n",
      "5\n",
      "6\n",
      "7\n",
      "8\n",
      "9\n"
     ]
    },
    {
     "ename": "StopIteration",
     "evalue": "",
     "output_type": "error",
     "traceback": [
      "\u001b[1;31m---------------------------------------------------------------------------\u001b[0m",
      "\u001b[1;31mStopIteration\u001b[0m                             Traceback (most recent call last)",
      "Cell \u001b[1;32mIn[186], line 11\u001b[0m\n\u001b[0;32m      9\u001b[0m \u001b[38;5;28mprint\u001b[39m(ob\u001b[38;5;241m.\u001b[39m\u001b[38;5;21m__next__\u001b[39m())\n\u001b[0;32m     10\u001b[0m \u001b[38;5;28mprint\u001b[39m(ob\u001b[38;5;241m.\u001b[39m\u001b[38;5;21m__next__\u001b[39m())\n\u001b[1;32m---> 11\u001b[0m \u001b[38;5;28mprint\u001b[39m(\u001b[43mob\u001b[49m\u001b[38;5;241;43m.\u001b[39;49m\u001b[38;5;21;43m__next__\u001b[39;49m\u001b[43m(\u001b[49m\u001b[43m)\u001b[49m)\n",
      "Cell \u001b[1;32mIn[184], line 11\u001b[0m, in \u001b[0;36mran.__next__\u001b[1;34m(self)\u001b[0m\n\u001b[0;32m      9\u001b[0m \u001b[38;5;28;01mdef\u001b[39;00m \u001b[38;5;21m__next__\u001b[39m(\u001b[38;5;28mself\u001b[39m):\n\u001b[0;32m     10\u001b[0m     \u001b[38;5;28;01mif\u001b[39;00m \u001b[38;5;28mself\u001b[39m\u001b[38;5;241m.\u001b[39msv\u001b[38;5;241m>\u001b[39m\u001b[38;5;241m=\u001b[39m\u001b[38;5;28mself\u001b[39m\u001b[38;5;241m.\u001b[39mev:\n\u001b[1;32m---> 11\u001b[0m         \u001b[38;5;28;01mraise\u001b[39;00m \u001b[38;5;167;01mStopIteration\u001b[39;00m\n\u001b[0;32m     12\u001b[0m     res\u001b[38;5;241m=\u001b[39m\u001b[38;5;28mself\u001b[39m\u001b[38;5;241m.\u001b[39msv\n\u001b[0;32m     13\u001b[0m     \u001b[38;5;28mself\u001b[39m\u001b[38;5;241m.\u001b[39msv\u001b[38;5;241m+\u001b[39m\u001b[38;5;241m=\u001b[39m\u001b[38;5;28mself\u001b[39m\u001b[38;5;241m.\u001b[39mup\n",
      "\u001b[1;31mStopIteration\u001b[0m: "
     ]
    }
   ],
   "source": [
    "ob.__iter__()\n",
    "print(ob.__next__())\n",
    "print(ob.__next__())\n",
    "print(ob.__next__())\n",
    "print(ob.__next__())\n",
    "print(ob.__next__())\n",
    "print(ob.__next__())\n",
    "print(ob.__next__())\n",
    "print(ob.__next__())\n",
    "print(ob.__next__())\n",
    "print(ob.__next__())"
   ]
  },
  {
   "cell_type": "code",
   "execution_count": 203,
   "id": "5e82805e",
   "metadata": {},
   "outputs": [
    {
     "name": "stdout",
     "output_type": "stream",
     "text": [
      "[0, 1, 1, 2, 3, 5, 8, 13]\n"
     ]
    }
   ],
   "source": [
    "# create fib series\n",
    "# 0 1 1 2 3 5\n",
    "class fib:\n",
    "    def __init__(self,n):\n",
    "        self.n=n\n",
    "        self.n1=0\n",
    "        self.n2=1\n",
    "    def __iter__(self):\n",
    "        return self\n",
    "    def __next__(self):\n",
    "        if self.n1>self.n:\n",
    "            raise StopIteration\n",
    "        res=self.n1\n",
    "        s=self.n1+self.n2\n",
    "        self.n1,self.n2=self.n2,s\n",
    "        return res\n",
    "obj=fib(20)\n",
    "print(list(obj))\n",
    "    "
   ]
  },
  {
   "cell_type": "code",
   "execution_count": 1,
   "id": "dda3a929",
   "metadata": {},
   "outputs": [],
   "source": [
    "# write a data into CSV File"
   ]
  },
  {
   "cell_type": "code",
   "execution_count": 54,
   "id": "24b326d0",
   "metadata": {},
   "outputs": [],
   "source": [
    "import csv\n",
    "open('file.csv','w')\n",
    "b=csv.writer(a)\n",
    "class emp:\n",
    "    def __init__(self,ename,empno,role):\n",
    "        self.ename=ename\n",
    "        self.empno=empno\n",
    "        self.role=role\n",
    "        b.writerow([ename,empno,role])\n",
    "    def display(self):\n",
    "        print(self.__dict__)\n",
    "        "
   ]
  },
  {
   "cell_type": "code",
   "execution_count": 56,
   "id": "211c3465",
   "metadata": {},
   "outputs": [
    {
     "name": "stdout",
     "output_type": "stream",
     "text": [
      "{'ename': 'ashraff', 'empno': '1234', 'role': 'DA'}\n"
     ]
    }
   ],
   "source": [
    "oa=emp('ashraff','1234','DA')\n",
    "oa.display()\n",
    "a.close()"
   ]
  },
  {
   "cell_type": "code",
   "execution_count": null,
   "id": "e850eb66",
   "metadata": {},
   "outputs": [],
   "source": [
    "# WAP sql conn using oops"
   ]
  },
  {
   "cell_type": "code",
   "execution_count": 43,
   "id": "0607e00d",
   "metadata": {},
   "outputs": [
    {
     "data": {
      "text/plain": [
       "<sqlite3.Cursor at 0x115be05da40>"
      ]
     },
     "execution_count": 43,
     "metadata": {},
     "output_type": "execute_result"
    }
   ],
   "source": [
    "import sqlite3\n",
    "a=sqlite3.connect('data3.db')\n",
    "b=a.cursor()\n",
    "b.execute('create table py(sname varchar,sid number)')\n"
   ]
  },
  {
   "cell_type": "code",
   "execution_count": 44,
   "id": "02c3eaa3",
   "metadata": {},
   "outputs": [],
   "source": [
    "class sam:\n",
    "    def __init__(self,sname,sid):\n",
    "        self.sname=sname\n",
    "        self.sid=sid\n",
    "        b.execute(f\"insert into py values ('{sname}','{sid}')\")\n",
    "        "
   ]
  },
  {
   "cell_type": "code",
   "execution_count": 45,
   "id": "651f3834",
   "metadata": {},
   "outputs": [
    {
     "name": "stdout",
     "output_type": "stream",
     "text": [
      "[('dinga', 100), ('dingi', 420)]\n"
     ]
    }
   ],
   "source": [
    "s1=sam('dinga',100)\n",
    "s2=sam('dingi',420)\n",
    "res=b.execute('select * from py')\n",
    "print(list(res))"
   ]
  },
  {
   "cell_type": "code",
   "execution_count": 57,
   "id": "e1b6aba4",
   "metadata": {},
   "outputs": [],
   "source": [
    "# wap to extract the word the given data only if the word is having len 4 using rg in oops"
   ]
  },
  {
   "cell_type": "code",
   "execution_count": 79,
   "id": "f97a3f5c",
   "metadata": {},
   "outputs": [],
   "source": [
    "import re\n",
    "class sam:\n",
    "    def __init__(self,data):\n",
    "        self.data=data\n",
    "    def mod(self):\n",
    "        p=re.findall(r'\\b\\w{4}\\b',self.data)   #\\b is boundry it will consider first and last 4 char\n",
    "        return p"
   ]
  },
  {
   "cell_type": "code",
   "execution_count": 78,
   "id": "9ebf1ae2",
   "metadata": {},
   "outputs": [
    {
     "data": {
      "text/plain": [
       "['this', 'from']"
      ]
     },
     "execution_count": 78,
     "metadata": {},
     "output_type": "execute_result"
    }
   ],
   "source": [
    "ob=sam('this is dinga from pyspi')\n",
    "ob.mod()"
   ]
  },
  {
   "cell_type": "code",
   "execution_count": 84,
   "id": "bb66c24d",
   "metadata": {},
   "outputs": [
    {
     "name": "stdout",
     "output_type": "stream",
     "text": [
      "it Matched\n"
     ]
    }
   ],
   "source": [
    "# wap to check given mail id and pattern matched or not using oops and RE\n",
    "import re\n",
    "class oops:\n",
    "    def __init__(self,mail):\n",
    "        self.mail=mail\n",
    "    def mod(self):\n",
    "        pat='\\w+\\@[a-z]{5}\\.[a-z]{3}'\n",
    "        if re.match(pat,self.mail):\n",
    "            return True\n",
    "        return False\n",
    "ob=oops('mohamedashraff103@gmail.com')\n",
    "if ob.mod()==True:\n",
    "    print('it Matched')\n",
    "else:\n",
    "    print('Not Matched')"
   ]
  },
  {
   "cell_type": "code",
   "execution_count": null,
   "id": "58fd764f",
   "metadata": {},
   "outputs": [],
   "source": [
    "# wap to convert to lower case char from upper case chr usinng oops and dec"
   ]
  },
  {
   "cell_type": "code",
   "execution_count": 97,
   "id": "2ee03caf",
   "metadata": {},
   "outputs": [],
   "source": [
    "\n",
    "        "
   ]
  },
  {
   "cell_type": "code",
   "execution_count": 101,
   "id": "7b77acde",
   "metadata": {},
   "outputs": [
    {
     "data": {
      "text/plain": [
       "'ASHRAFF'"
      ]
     },
     "execution_count": 101,
     "metadata": {},
     "output_type": "execute_result"
    }
   ],
   "source": [
    "@outer\n",
    "def fname(a):\n",
    "    c=0\n",
    "    for i in a:\n",
    "        if 'a'<=i<='z' or 'A'<=i<='Z':\n",
    "            c+=1\n",
    "    if len(a)==c:\n",
    "        return a.upper()   \n",
    "fname('ashraff')"
   ]
  },
  {
   "cell_type": "code",
   "execution_count": 110,
   "id": "d073b7c2",
   "metadata": {},
   "outputs": [],
   "source": [
    "def outer(func):\n",
    "    def inner(*args,**kwargs):\n",
    "        res=func(*args,*kwargs)\n",
    "        return res.upper()\n",
    "    return inner\n",
    "    "
   ]
  },
  {
   "cell_type": "code",
   "execution_count": 111,
   "id": "ec98f9bf",
   "metadata": {},
   "outputs": [],
   "source": [
    "class dec:\n",
    "    def __init__(self,name):\n",
    "        self.name=name\n",
    "    @outer\n",
    "    def upper(self):\n",
    "        return self.name"
   ]
  },
  {
   "cell_type": "code",
   "execution_count": 113,
   "id": "ed057a5a",
   "metadata": {},
   "outputs": [
    {
     "data": {
      "text/plain": [
       "'ASHRAFF'"
      ]
     },
     "execution_count": 113,
     "metadata": {},
     "output_type": "execute_result"
    }
   ],
   "source": [
    "ob=dec('AShraff')\n",
    "ob.upper()"
   ]
  },
  {
   "cell_type": "code",
   "execution_count": 144,
   "id": "88004d8d",
   "metadata": {},
   "outputs": [],
   "source": [
    "class app:\n",
    "    l=[]\n",
    "    def __init__(self,name,rating,yop,per,stream):\n",
    "        self.name=name\n",
    "        self.rating=rating\n",
    "        self.yop=yop\n",
    "        self.per=per\n",
    "        self.stream=stream\n",
    "        app.l.append(self)\n",
    "    def matched(self):\n",
    "        if len(app.l)<=3:\n",
    "            if (2020<=self.yop<=2024) and self.per>=70 and (self.stream=='ME' or self.stream=='any' or self.stream=='cs'):\n",
    "                print ('Congrats 😁 You Are Added To Req /n When You give the Treat ')\n",
    "            else:\n",
    "                print('vaipilla Raja')\n",
    "        else:\n",
    "            print('slot not available try again ltr')"
   ]
  },
  {
   "cell_type": "code",
   "execution_count": 129,
   "id": "1dcf26f2",
   "metadata": {},
   "outputs": [
    {
     "name": "stdout",
     "output_type": "stream",
     "text": [
      "Congrats 😁 You Are Added To Req /n When You give the Treat \n"
     ]
    }
   ],
   "source": [
    "mohan=app('mohan','**',2021,99.99,'cs')\n",
    "mohan.matched()"
   ]
  },
  {
   "cell_type": "code",
   "execution_count": 145,
   "id": "d4e092d4",
   "metadata": {},
   "outputs": [
    {
     "name": "stdout",
     "output_type": "stream",
     "text": [
      "Congrats 😁 You Are Added To Req /n When You give the Treat \n"
     ]
    }
   ],
   "source": [
    "Ash=app('Ashraff','*',2022,90,'cs')\n",
    "Ash.matched()"
   ]
  },
  {
   "cell_type": "code",
   "execution_count": 140,
   "id": "1ee373cd",
   "metadata": {},
   "outputs": [
    {
     "name": "stdout",
     "output_type": "stream",
     "text": [
      "Congrats 😁 You Are Added To Req /n When You give the Treat \n"
     ]
    }
   ],
   "source": [
    "Aravind=app('aravind','***',2020,99.9999,'cs')\n",
    "Aravind.matched()"
   ]
  },
  {
   "cell_type": "code",
   "execution_count": 143,
   "id": "b59c3288",
   "metadata": {},
   "outputs": [
    {
     "name": "stdout",
     "output_type": "stream",
     "text": [
      "slot not ava try again ltr\n"
     ]
    }
   ],
   "source": [
    "chan=app('chan','**',2022,99,'cs')\n",
    "chan.matched()"
   ]
  },
  {
   "cell_type": "code",
   "execution_count": null,
   "id": "349dff46",
   "metadata": {},
   "outputs": [],
   "source": []
  },
  {
   "cell_type": "code",
   "execution_count": null,
   "id": "efd28ed4",
   "metadata": {},
   "outputs": [],
   "source": []
  },
  {
   "cell_type": "code",
   "execution_count": null,
   "id": "ed8060c2",
   "metadata": {},
   "outputs": [],
   "source": []
  },
  {
   "cell_type": "code",
   "execution_count": null,
   "id": "aa72251d",
   "metadata": {},
   "outputs": [],
   "source": []
  },
  {
   "cell_type": "code",
   "execution_count": null,
   "id": "10427667",
   "metadata": {},
   "outputs": [],
   "source": []
  },
  {
   "cell_type": "code",
   "execution_count": null,
   "id": "4be3d112",
   "metadata": {},
   "outputs": [],
   "source": []
  },
  {
   "cell_type": "code",
   "execution_count": null,
   "id": "cfe31c20",
   "metadata": {},
   "outputs": [],
   "source": []
  },
  {
   "cell_type": "code",
   "execution_count": null,
   "id": "551a5bfd",
   "metadata": {},
   "outputs": [],
   "source": []
  }
 ],
 "metadata": {
  "kernelspec": {
   "display_name": "Python 3 (ipykernel)",
   "language": "python",
   "name": "python3"
  },
  "language_info": {
   "codemirror_mode": {
    "name": "ipython",
    "version": 3
   },
   "file_extension": ".py",
   "mimetype": "text/x-python",
   "name": "python",
   "nbconvert_exporter": "python",
   "pygments_lexer": "ipython3",
   "version": "3.10.9"
  }
 },
 "nbformat": 4,
 "nbformat_minor": 5
}
