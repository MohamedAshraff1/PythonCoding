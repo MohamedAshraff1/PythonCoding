{
 "cells": [
  {
   "cell_type": "markdown",
   "id": "d6d66017",
   "metadata": {},
   "source": [
    "## programming class"
   ]
  },
  {
   "cell_type": "code",
   "execution_count": 22,
   "id": "f56e3cb8",
   "metadata": {},
   "outputs": [],
   "source": [
    "#st='j@i RcB' \n",
    "#o/p={'J@i': 'jI', 'RcB': 'rCb'}"
   ]
  },
  {
   "cell_type": "code",
   "execution_count": 17,
   "id": "b806f316",
   "metadata": {},
   "outputs": [],
   "source": [
    "def fun(a):\n",
    "    out=''\n",
    "    for i in a:\n",
    "        if 'A'<=i<='Z':\n",
    "             out+=i.lower()\n",
    "        elif 'a'<=i<='z':\n",
    "            out+=i.upper()\n",
    "    return out    \n",
    "            \n",
    "            "
   ]
  },
  {
   "cell_type": "code",
   "execution_count": 20,
   "id": "0701d418",
   "metadata": {},
   "outputs": [],
   "source": [
    "def main(st,out={}):\n",
    "    a=st.split()\n",
    "    for i in a:\n",
    "        out[i]=fun(i)\n",
    "    return out"
   ]
  },
  {
   "cell_type": "code",
   "execution_count": 23,
   "id": "d1a60d9c",
   "metadata": {},
   "outputs": [
    {
     "name": "stdout",
     "output_type": "stream",
     "text": [
      "{'J@i': 'jI', 'RcB': 'rCb'}\n"
     ]
    }
   ],
   "source": [
    "print(main('J@i RcB'))\n"
   ]
  },
  {
   "cell_type": "code",
   "execution_count": 37,
   "id": "b15164fb",
   "metadata": {},
   "outputs": [],
   "source": [
    "#WAP to consider str coln and store unique words along with count\n",
    "# st='hai hello how hai'\n",
    "# o/p={'hai':2,'hello':1,'how':1}"
   ]
  },
  {
   "cell_type": "code",
   "execution_count": 38,
   "id": "d95e0004",
   "metadata": {},
   "outputs": [],
   "source": [
    "def fun(a):\n",
    "    c=a.split()\n",
    "    out={}\n",
    "    for i in c:\n",
    "        if i not in out:\n",
    "            out[i]=1\n",
    "        else:\n",
    "            out[i]+=1\n",
    "    return out"
   ]
  },
  {
   "cell_type": "code",
   "execution_count": 39,
   "id": "efd3bf6d",
   "metadata": {},
   "outputs": [
    {
     "name": "stdout",
     "output_type": "stream",
     "text": [
      "{'hai': 3, 'hello': 1, 'how': 1}\n"
     ]
    }
   ],
   "source": [
    "print(fun('hai hello how hai hai'))"
   ]
  },
  {
   "cell_type": "code",
   "execution_count": null,
   "id": "f6888840",
   "metadata": {},
   "outputs": [],
   "source": [
    "###or \n",
    "def fun(a):\n",
    "    c=a.split()\n",
    "    out={}\n",
    "    for i in c:\n",
    "        out=c.count(i)\n",
    "    return out"
   ]
  },
  {
   "cell_type": "code",
   "execution_count": 40,
   "id": "f14cf90a",
   "metadata": {},
   "outputs": [
    {
     "name": "stdout",
     "output_type": "stream",
     "text": [
      "{'hai': 3, 'hello': 1, 'how': 1}\n"
     ]
    }
   ],
   "source": [
    "print(fun('hai hello how hai hai'))"
   ]
  },
  {
   "cell_type": "code",
   "execution_count": null,
   "id": "2f045974",
   "metadata": {},
   "outputs": [],
   "source": [
    "# wap to get flw output\n",
    "# st='AbaA545@!*BCD'\n",
    "# o/p={'AABCD':5,'ba':2,'545':3,'@!*:3'}"
   ]
  },
  {
   "cell_type": "code",
   "execution_count": 67,
   "id": "bee55c94",
   "metadata": {},
   "outputs": [],
   "source": [
    "def fun(a):\n",
    "    up,lo,num,sp='','','',''\n",
    "    for i in a:\n",
    "        if 'A'<=i<='Z':\n",
    "            up+=i\n",
    "        elif 'a'<=i<='z':\n",
    "            lo+=i\n",
    "        elif '0'<=i<='9':\n",
    "            num+=i\n",
    "        else:\n",
    "            sp+=i\n",
    "    d={up:len(up),lo:len(lo),num:len(num),sp:len(sp)}\n",
    "    \n",
    "    return d"
   ]
  },
  {
   "cell_type": "code",
   "execution_count": 68,
   "id": "905fd927",
   "metadata": {},
   "outputs": [
    {
     "name": "stdout",
     "output_type": "stream",
     "text": [
      "{'AABCD': 5, 'ba': 2, '545': 3, '@!*': 3}\n"
     ]
    }
   ],
   "source": [
    "print(fun('AbaA545@!*BCD'))"
   ]
  },
  {
   "cell_type": "code",
   "execution_count": null,
   "id": "d6243a61",
   "metadata": {},
   "outputs": [],
   "source": [
    "# wap to get flw o/p \n",
    "# st='ee sala cup namde'\n",
    "# o/p{'ee':namde,'sala':'cup','cup':'sala','namde'}"
   ]
  },
  {
   "cell_type": "code",
   "execution_count": 103,
   "id": "b806afd4",
   "metadata": {},
   "outputs": [],
   "source": [
    "def fun(a):\n",
    "    sp=a.split()\n",
    "    print(sp)\n",
    "    v=sp[::-1]\n",
    "    print(v)\n",
    "    d={}\n",
    "    for i in range(len(sp)):\n",
    "        d[sp[i]]=v[i]\n",
    "    return d\n",
    "\n",
    "    "
   ]
  },
  {
   "cell_type": "code",
   "execution_count": 105,
   "id": "b229a481",
   "metadata": {},
   "outputs": [
    {
     "name": "stdout",
     "output_type": "stream",
     "text": [
      "['ee', 'sala', 'cup', 'namde']\n",
      "['namde', 'cup', 'sala', 'ee']\n",
      "{'ee': 'namde', 'sala': 'cup', 'cup': 'sala', 'namde': 'ee'}\n"
     ]
    }
   ],
   "source": [
    "print(fun('ee sala cup namde'))"
   ]
  },
  {
   "cell_type": "code",
   "execution_count": 1,
   "id": "1e043c2c",
   "metadata": {},
   "outputs": [],
   "source": [
    "# wap to swap the val without using third var and also not like a,b=b,a"
   ]
  },
  {
   "cell_type": "code",
   "execution_count": 4,
   "id": "5920a4a9",
   "metadata": {},
   "outputs": [
    {
     "name": "stdout",
     "output_type": "stream",
     "text": [
      "2000 1000\n"
     ]
    }
   ],
   "source": [
    "a=10\n",
    "b=20\n",
    "a=a+b  #a=30\n",
    "b=a-b  #30-10 b=20\n",
    "a=a-b  #30-20 a=10\n",
    "print(a,b)\n"
   ]
  },
  {
   "cell_type": "code",
   "execution_count": null,
   "id": "f3d7caf9",
   "metadata": {},
   "outputs": [],
   "source": [
    "# wap to add int num with out using + opr"
   ]
  },
  {
   "cell_type": "code",
   "execution_count": 42,
   "id": "cf1f8cc8",
   "metadata": {},
   "outputs": [
    {
     "name": "stdout",
     "output_type": "stream",
     "text": [
      "11\n",
      "0\n",
      "0\n"
     ]
    }
   ],
   "source": [
    "a=6\n",
    "b=5\n",
    "while b!=0:\n",
    "    d=a&b\n",
    "    a=a^b\n",
    "    b=d<<1\n",
    "print(a)\n",
    "print(d)\n",
    "print(b)\n"
   ]
  },
  {
   "cell_type": "code",
   "execution_count": 50,
   "id": "244268fb",
   "metadata": {},
   "outputs": [
    {
     "name": "stdout",
     "output_type": "stream",
     "text": [
      "3\n"
     ]
    }
   ],
   "source": [
    "n=12333\n",
    "s=str(n)\n",
    "temp=0\n",
    "for i in s:\n",
    "    temp+=int(i)\n",
    "v=0\n",
    "for i in str(temp):\n",
    "    v+=int(i)\n",
    "out=0\n",
    "for i in str(v):\n",
    "    out+=int(i)\n",
    "print(out)\n",
    "    "
   ]
  },
  {
   "cell_type": "code",
   "execution_count": 40,
   "id": "82f1c56f",
   "metadata": {},
   "outputs": [],
   "source": [
    "def single(n):\n",
    "    n=str(n)\n",
    "    while len(n)!=1:\n",
    "        s=0\n",
    "        for i in n:\n",
    "            s+=int(i)\n",
    "        n=str(s)\n",
    "    return int(n)"
   ]
  },
  {
   "cell_type": "code",
   "execution_count": 43,
   "id": "c20d8481",
   "metadata": {},
   "outputs": [
    {
     "data": {
      "text/plain": [
       "3"
      ]
     },
     "execution_count": 43,
     "metadata": {},
     "output_type": "execute_result"
    }
   ],
   "source": [
    "single(12333)"
   ]
  },
  {
   "cell_type": "code",
   "execution_count": 46,
   "id": "5f72ccd7",
   "metadata": {},
   "outputs": [],
   "source": [
    "# above ques using rec\n",
    "\n",
    "def fun(n):\n",
    "    if len(str(n))==1:\n",
    "        return n\n",
    "    s=0\n",
    "    for i in str(n):\n",
    "        s+=int(i)\n",
    "    return fun(s)"
   ]
  },
  {
   "cell_type": "code",
   "execution_count": 47,
   "id": "2ce1771e",
   "metadata": {},
   "outputs": [
    {
     "data": {
      "text/plain": [
       "3"
      ]
     },
     "execution_count": 47,
     "metadata": {},
     "output_type": "execute_result"
    }
   ],
   "source": [
    "fun(12333)"
   ]
  },
  {
   "cell_type": "code",
   "execution_count": null,
   "id": "87424ad2",
   "metadata": {},
   "outputs": [],
   "source": [
    "# l=[10,14.55,'hai',5+5j,10.25]\n",
    "# out=(14.55:55,10:25:25)"
   ]
  },
  {
   "cell_type": "code",
   "execution_count": 9,
   "id": "c7bdbf1d",
   "metadata": {},
   "outputs": [],
   "source": [
    "def sam(l,out={}):\n",
    "    for i in l:\n",
    "        if type(i)==float:\n",
    "            a=str(i).split('.')\n",
    "            out[i]=a[-1]\n",
    "    return out"
   ]
  },
  {
   "cell_type": "code",
   "execution_count": 10,
   "id": "71a7da1e",
   "metadata": {},
   "outputs": [
    {
     "data": {
      "text/plain": [
       "{14.55: '55', 10.25: '25'}"
      ]
     },
     "execution_count": 10,
     "metadata": {},
     "output_type": "execute_result"
    }
   ],
   "source": [
    "sam([10,14.55,'hai',5+5j,10.25])"
   ]
  },
  {
   "cell_type": "code",
   "execution_count": 23,
   "id": "22f7b9b1",
   "metadata": {},
   "outputs": [],
   "source": [
    "# st='royal challengers rajastan royal'\n",
    "# op={5:['royal','royal'],11:['challengers'],8:['rajastan']}"
   ]
  },
  {
   "cell_type": "code",
   "execution_count": 31,
   "id": "16058b3d",
   "metadata": {},
   "outputs": [],
   "source": [
    "def sam(l,out={}):\n",
    "    a=l.split()\n",
    "    for i in a:\n",
    "        if len(i) not in out:\n",
    "            out[len(i)]=[i]\n",
    "        else:\n",
    "            out[len(i)]+=[i]\n",
    "    return out\n",
    "    "
   ]
  },
  {
   "cell_type": "code",
   "execution_count": 32,
   "id": "92756695",
   "metadata": {},
   "outputs": [
    {
     "data": {
      "text/plain": [
       "{5: ['royal', 'royal'], 11: ['challengers'], 8: ['rajastan'], 3: ['Csk']}"
      ]
     },
     "execution_count": 32,
     "metadata": {},
     "output_type": "execute_result"
    }
   ],
   "source": [
    "sam('royal challengers rajastan royal Csk')"
   ]
  },
  {
   "cell_type": "code",
   "execution_count": 65,
   "id": "4d913e45",
   "metadata": {},
   "outputs": [],
   "source": [
    "# l=['google.com','file.py','file2.txt','file1.com','string.py']\n",
    "# out={'com':['google.com',bg,com],'py':['string','file'],'txt':['file.txt']}"
   ]
  },
  {
   "cell_type": "code",
   "execution_count": 74,
   "id": "6cdee6c9",
   "metadata": {},
   "outputs": [],
   "source": [
    "def sam(l,out={}):\n",
    "    for i in l:\n",
    "        a=i.split('.')  #['google','com']\n",
    "        if a[-1] not in out:\n",
    "            out[a[-1]]=[i]\n",
    "        else:\n",
    "            out[a[-1]]+=[i]\n",
    "    return out"
   ]
  },
  {
   "cell_type": "code",
   "execution_count": 73,
   "id": "2740553d",
   "metadata": {},
   "outputs": [
    {
     "data": {
      "text/plain": [
       "{'com': ['google.com', 'file.com'],\n",
       " 'py': ['file.py', 'string.py'],\n",
       " 'txt': ['file2.txt']}"
      ]
     },
     "execution_count": 73,
     "metadata": {},
     "output_type": "execute_result"
    }
   ],
   "source": [
    "sam(['google.com','file.py','file2.txt','file.com','string.py'])"
   ]
  },
  {
   "cell_type": "code",
   "execution_count": 46,
   "id": "bbc8fadc",
   "metadata": {},
   "outputs": [],
   "source": [
    "d={'a':[1,2,3],'b':[4.5,6],'c':[7,8,9]}\n",
    "out=[[('a', 1),\n",
    " ('a', 2),\n",
    " ('a', 3),\n",
    " ('b', 4),\n",
    " ('b', 5),\n",
    " ('b', 6),\n",
    " ('c', 7),\n",
    " ('c', 8),\n",
    " ('c', 9)]]"
   ]
  },
  {
   "cell_type": "code",
   "execution_count": 81,
   "id": "1c2cd47c",
   "metadata": {},
   "outputs": [],
   "source": [
    "def sam(l,out=[]):\n",
    "    for i in l:\n",
    "        for j in l[i]:\n",
    "            out+=[(i,j)]\n",
    "    return out\n",
    "    "
   ]
  },
  {
   "cell_type": "code",
   "execution_count": 82,
   "id": "6def9d0d",
   "metadata": {},
   "outputs": [
    {
     "data": {
      "text/plain": [
       "[('a', 1),\n",
       " ('a', 2),\n",
       " ('a', 3),\n",
       " ('b', 4),\n",
       " ('b', 5),\n",
       " ('b', 6),\n",
       " ('c', 7),\n",
       " ('c', 8),\n",
       " ('c', 9)]"
      ]
     },
     "execution_count": 82,
     "metadata": {},
     "output_type": "execute_result"
    }
   ],
   "source": [
    "sam({'a':[1,2,3],'b':[45,6],'c':[7,8,9]})"
   ]
  },
  {
   "cell_type": "code",
   "execution_count": null,
   "id": "73062956",
   "metadata": {},
   "outputs": [],
   "source": [
    "# wap to ittarate over list of list and return new list of list only if list is having atleast\n",
    "# one even num \n"
   ]
  },
  {
   "cell_type": "code",
   "execution_count": 92,
   "id": "4e89e8eb",
   "metadata": {},
   "outputs": [],
   "source": [
    "def sam(l,out=[]):\n",
    "    for i in l:\n",
    "        for j in i:\n",
    "            if type(j)==int:\n",
    "                if j%2==0:\n",
    "                    out+=[i]\n",
    "    return out"
   ]
  },
  {
   "cell_type": "code",
   "execution_count": 93,
   "id": "9fbabbc5",
   "metadata": {},
   "outputs": [
    {
     "data": {
      "text/plain": [
       "[[1, 2], [8, 9]]"
      ]
     },
     "execution_count": 93,
     "metadata": {},
     "output_type": "execute_result"
    }
   ],
   "source": [
    "sam([[1,2],[3,9],[8,9],['hai','hello']])"
   ]
  },
  {
   "cell_type": "code",
   "execution_count": null,
   "id": "439013ee",
   "metadata": {},
   "outputs": [],
   "source": [
    "# l=[5,13,8,9,25]\n",
    "# [(1,5),(1,13),(1,2,4,5),(1,3,9),(1,5,25)]"
   ]
  },
  {
   "cell_type": "code",
   "execution_count": 146,
   "id": "94dd3016",
   "metadata": {},
   "outputs": [],
   "source": [
    "def fact(i,temp=()):\n",
    "    for j in range(1,i+1):\n",
    "        if i%j==0:\n",
    "            temp+=(j,)\n",
    "    return temp\n",
    "            "
   ]
  },
  {
   "cell_type": "code",
   "execution_count": 147,
   "id": "c03128a4",
   "metadata": {},
   "outputs": [],
   "source": [
    "def main(l,li=[]):\n",
    "    for i in l:\n",
    "        li+=[fact(i)]\n",
    "    return li"
   ]
  },
  {
   "cell_type": "code",
   "execution_count": 148,
   "id": "a625cf50",
   "metadata": {},
   "outputs": [
    {
     "data": {
      "text/plain": [
       "[(1, 5), (1, 13), (1, 2, 4, 8), (1, 3, 9), (1, 5, 25)]"
      ]
     },
     "execution_count": 148,
     "metadata": {},
     "output_type": "execute_result"
    }
   ],
   "source": [
    "main([5,13,8,9,25])"
   ]
  },
  {
   "cell_type": "code",
   "execution_count": 149,
   "id": "7a91ba3d",
   "metadata": {},
   "outputs": [],
   "source": [
    "# wap to check wtr the given str is balanced or not\n",
    "# st=')) (()) (('\n",
    "# false\n",
    "\n",
    "# st='(()()())'\n",
    "# True\n"
   ]
  },
  {
   "cell_type": "code",
   "execution_count": 178,
   "id": "8a6b76db",
   "metadata": {},
   "outputs": [],
   "source": [
    "def fun(l,c=0):\n",
    "    for i in range(len(l)):\n",
    "        if l[0]=='(' and l[-1]==')'and l.count('(')==l.count(')'):\n",
    "            return True\n",
    "    return False\n",
    "            "
   ]
  },
  {
   "cell_type": "code",
   "execution_count": 180,
   "id": "f11d6e9c",
   "metadata": {},
   "outputs": [
    {
     "data": {
      "text/plain": [
       "False"
      ]
     },
     "execution_count": 180,
     "metadata": {},
     "output_type": "execute_result"
    }
   ],
   "source": [
    "fun('((()))))')"
   ]
  },
  {
   "cell_type": "code",
   "execution_count": 181,
   "id": "4532844c",
   "metadata": {},
   "outputs": [],
   "source": [
    "def bal(st,c=0):\n",
    "    for i in st:\n",
    "        if i=='(':\n",
    "            c+=1\n",
    "        elif i==')':\n",
    "            c-=1\n",
    "        if c<0:\n",
    "            return False\n",
    "    if c==0:\n",
    "        return True"
   ]
  },
  {
   "cell_type": "code",
   "execution_count": 184,
   "id": "97a32691",
   "metadata": {},
   "outputs": [
    {
     "data": {
      "text/plain": [
       "True"
      ]
     },
     "execution_count": 184,
     "metadata": {},
     "output_type": "execute_result"
    }
   ],
   "source": [
    "bal('(())')"
   ]
  },
  {
   "cell_type": "code",
   "execution_count": null,
   "id": "45155946",
   "metadata": {},
   "outputs": [],
   "source": [
    "# anagram \n",
    "# s1='dog'\n",
    "# s2='god'"
   ]
  },
  {
   "cell_type": "code",
   "execution_count": 186,
   "id": "a3a4276f",
   "metadata": {},
   "outputs": [],
   "source": [
    "def ana(s1,s2):\n",
    "    s1=''.join(s1.split())\n",
    "    s2=''.join(s1.split())\n",
    "    s1=s1.upper()\n",
    "    s2=s2.upper()\n",
    "    s1=sorted(s1)\n",
    "    s2=sorted(s2)\n",
    "    if s1==s2:\n",
    "        return True\n",
    "    return False"
   ]
  },
  {
   "cell_type": "code",
   "execution_count": 187,
   "id": "7bb870c9",
   "metadata": {},
   "outputs": [
    {
     "data": {
      "text/plain": [
       "True"
      ]
     },
     "execution_count": 187,
     "metadata": {},
     "output_type": "execute_result"
    }
   ],
   "source": [
    "ana('dog','god')"
   ]
  },
  {
   "cell_type": "code",
   "execution_count": 188,
   "id": "950efd69",
   "metadata": {},
   "outputs": [],
   "source": [
    "# d={'A':10,'B':20,'C':10,'D':30}\n",
    "# o/p={10:['A','C'],20:['B'],30:['D']}"
   ]
  },
  {
   "cell_type": "code",
   "execution_count": 196,
   "id": "b7274532",
   "metadata": {},
   "outputs": [],
   "source": [
    "def dic(d,out={}):\n",
    "    for i in d:\n",
    "        if d[i] not in out:\n",
    "            out[d[i]]=[i]\n",
    "        else:\n",
    "            out[d[i]]+=[i]\n",
    "    return out\n",
    "            "
   ]
  },
  {
   "cell_type": "code",
   "execution_count": 197,
   "id": "c9fe8f84",
   "metadata": {},
   "outputs": [
    {
     "data": {
      "text/plain": [
       "{10: ['A', 'C'], 20: ['B'], 30: ['D', 'F']}"
      ]
     },
     "execution_count": 197,
     "metadata": {},
     "output_type": "execute_result"
    }
   ],
   "source": [
    "dic({'A':10,'B':20,'C':10,'D':30,'F':30})"
   ]
  },
  {
   "cell_type": "code",
   "execution_count": null,
   "id": "356deeb2",
   "metadata": {},
   "outputs": [],
   "source": [
    "# st='cup3 nam4de mu1ndin sal2a'\n"
   ]
  },
  {
   "cell_type": "code",
   "execution_count": 312,
   "id": "af259a99",
   "metadata": {},
   "outputs": [],
   "source": [
    "def sam(st,out=''):\n",
    "    out1={}\n",
    "    a=st.split()     #['cup3','nam4de','mu1ndin','sal2a']\n",
    "    for i in a:\n",
    "        res=''\n",
    "        for j in i:\n",
    "            if '0'<=j<='9':\n",
    "                res+=j\n",
    "        out1[int(res)]=i   #{3: 'cup3', 4: 'nam4de', 1: 'mu1ndin', 2: 'sal2a'}\n",
    "    a=list(out1)   #[3,4,1,2]\n",
    "    a.sort()    #[1,2,3,4]\n",
    "    l=[]\n",
    "    for i in a:\n",
    "        l+=[out1[i]]\n",
    "    return ' '.join(l)"
   ]
  },
  {
   "cell_type": "code",
   "execution_count": 313,
   "id": "08ca5b78",
   "metadata": {},
   "outputs": [
    {
     "data": {
      "text/plain": [
       "'mu1ndin sal2a cup3 nam4de'"
      ]
     },
     "execution_count": 313,
     "metadata": {},
     "output_type": "execute_result"
    }
   ],
   "source": [
    "sam('cup3 nam4de mu1ndin sal2a')"
   ]
  },
  {
   "cell_type": "code",
   "execution_count": null,
   "id": "292bc207",
   "metadata": {},
   "outputs": [],
   "source": [
    "# st='one four three'\n",
    "# o/p=8"
   ]
  },
  {
   "cell_type": "code",
   "execution_count": 349,
   "id": "fb9499e9",
   "metadata": {},
   "outputs": [
    {
     "name": "stdout",
     "output_type": "stream",
     "text": [
      "8\n"
     ]
    }
   ],
   "source": [
    "d={'one':1,'two':2,'three':3,'four':4}\n",
    "st='one four three'\n",
    "a=st.split()\n",
    "out=0\n",
    "for i in a:\n",
    "    if i in d:\n",
    "        out+=d[i]\n",
    "print(out)\n",
    "        \n"
   ]
  },
  {
   "cell_type": "code",
   "execution_count": null,
   "id": "fa9e5cf9",
   "metadata": {},
   "outputs": [],
   "source": [
    "# n=123\n",
    "# 'onetwothree'"
   ]
  },
  {
   "cell_type": "code",
   "execution_count": 352,
   "id": "37e3cabb",
   "metadata": {},
   "outputs": [
    {
     "name": "stdout",
     "output_type": "stream",
     "text": [
      "onetwothree\n"
     ]
    }
   ],
   "source": [
    "d={1:'one',2:'two',3:'three'}\n",
    "n=123\n",
    "out=''\n",
    "for i in str(n):\n",
    "    if int(i) in d:\n",
    "        out+=d[int(i)]\n",
    "print(out)\n",
    "        "
   ]
  },
  {
   "cell_type": "code",
   "execution_count": null,
   "id": "a4d8d927",
   "metadata": {},
   "outputs": [],
   "source": [
    "# n=123\n",
    "# o/p='six'"
   ]
  },
  {
   "cell_type": "code",
   "execution_count": 358,
   "id": "f568e232",
   "metadata": {},
   "outputs": [
    {
     "name": "stdout",
     "output_type": "stream",
     "text": [
      "six\n"
     ]
    }
   ],
   "source": [
    "n=123\n",
    "res=0\n",
    "d={1:'one',2:'two',3:'three',4:'four',5:'five',6:'six'}\n",
    "for i in str(n):\n",
    "    res+=int(i)\n",
    "print(d[res])\n",
    "    "
   ]
  },
  {
   "cell_type": "markdown",
   "id": "ad5ef179",
   "metadata": {},
   "source": [
    "# Number Series Programs excution in data structure notes"
   ]
  },
  {
   "cell_type": "code",
   "execution_count": null,
   "id": "4f3e63cc",
   "metadata": {},
   "outputs": [],
   "source": [
    "# wap to get prime numbers b/w range 1-100\n",
    "\n",
    "# "
   ]
  },
  {
   "cell_type": "code",
   "execution_count": 513,
   "id": "1996f87e",
   "metadata": {},
   "outputs": [],
   "source": [
    "def prime(n):\n",
    "    c=0\n",
    "    for i in range(1,n+1):\n",
    "        if n%i==0:\n",
    "            c+=1\n",
    "    if c==2:\n",
    "        return True\n",
    "    else:\n",
    "        return False\n",
    "    print(c)"
   ]
  },
  {
   "cell_type": "code",
   "execution_count": 514,
   "id": "35602990",
   "metadata": {},
   "outputs": [],
   "source": [
    "def main(m,n):\n",
    "    out=[]\n",
    "    for i in range(m,n+1):\n",
    "        if prime(i)==True:\n",
    "            out+=[i]\n",
    "    return out"
   ]
  },
  {
   "cell_type": "code",
   "execution_count": 515,
   "id": "224a1e34",
   "metadata": {},
   "outputs": [
    {
     "data": {
      "text/plain": [
       "[2, 3, 5, 7, 11, 13, 17, 19]"
      ]
     },
     "execution_count": 515,
     "metadata": {},
     "output_type": "execute_result"
    }
   ],
   "source": [
    "main(2,20)"
   ]
  },
  {
   "cell_type": "code",
   "execution_count": null,
   "id": "b92c4d43",
   "metadata": {},
   "outputs": [],
   "source": [
    "# wap to print perfect num b/w range"
   ]
  },
  {
   "cell_type": "code",
   "execution_count": 431,
   "id": "678c132e",
   "metadata": {},
   "outputs": [],
   "source": [
    "def perfect(n):\n",
    "    c=0\n",
    "    for i in range(1,n):\n",
    "        if n%i==0:\n",
    "            c+=i\n",
    "    if n==c:\n",
    "        return True\n",
    "    return False\n",
    "            \n",
    "    "
   ]
  },
  {
   "cell_type": "code",
   "execution_count": 432,
   "id": "534c7673",
   "metadata": {},
   "outputs": [],
   "source": [
    "def main(m,n): \n",
    "    for i in range(m,n+1):\n",
    "        if perfect(i)==True:\n",
    "            print(i)\n",
    "            \n",
    "    "
   ]
  },
  {
   "cell_type": "code",
   "execution_count": 433,
   "id": "8f162d68",
   "metadata": {},
   "outputs": [
    {
     "name": "stdout",
     "output_type": "stream",
     "text": [
      "6\n",
      "28\n"
     ]
    }
   ],
   "source": [
    "main(5,100)"
   ]
  },
  {
   "cell_type": "code",
   "execution_count": null,
   "id": "1ca6b2b7",
   "metadata": {},
   "outputs": [],
   "source": [
    "# wap to get strong num b/w range"
   ]
  },
  {
   "cell_type": "code",
   "execution_count": 476,
   "id": "a3de2077",
   "metadata": {},
   "outputs": [],
   "source": [
    "from math import factorial\n",
    "def strong(n,s=0):\n",
    "    for j in str(n):\n",
    "        s+=factorial(int(j))\n",
    "    return s==n\n",
    "    \n",
    "    "
   ]
  },
  {
   "cell_type": "code",
   "execution_count": 477,
   "id": "755f71dc",
   "metadata": {},
   "outputs": [],
   "source": [
    "def main(m,n):\n",
    "    for i in range(m,n+1):\n",
    "        if strong(i)==True:\n",
    "            print(i)\n",
    "        "
   ]
  },
  {
   "cell_type": "code",
   "execution_count": 478,
   "id": "01742afb",
   "metadata": {},
   "outputs": [
    {
     "name": "stdout",
     "output_type": "stream",
     "text": [
      "1\n",
      "2\n",
      "145\n"
     ]
    }
   ],
   "source": [
    "main(1,200)"
   ]
  },
  {
   "cell_type": "code",
   "execution_count": null,
   "id": "642f133e",
   "metadata": {},
   "outputs": [],
   "source": [
    "# wap amstrong num b/w range"
   ]
  },
  {
   "cell_type": "code",
   "execution_count": 492,
   "id": "b6f26889",
   "metadata": {},
   "outputs": [],
   "source": [
    "def amstrong(n,s=0):\n",
    "    for i in str(n):\n",
    "        s+=int(i)**3\n",
    "    return n==s"
   ]
  },
  {
   "cell_type": "code",
   "execution_count": 493,
   "id": "6c7d2171",
   "metadata": {},
   "outputs": [],
   "source": [
    "def main(m,n):\n",
    "    for i in range(m,n+1):\n",
    "        if amstrong(i)==True:\n",
    "            print(i)"
   ]
  },
  {
   "cell_type": "code",
   "execution_count": 495,
   "id": "e64ca3ad",
   "metadata": {},
   "outputs": [
    {
     "name": "stdout",
     "output_type": "stream",
     "text": [
      "153\n",
      "370\n",
      "371\n",
      "407\n"
     ]
    }
   ],
   "source": [
    "main(100,1000)"
   ]
  },
  {
   "cell_type": "code",
   "execution_count": null,
   "id": "72b7e1b3",
   "metadata": {},
   "outputs": [],
   "source": [
    "# wap to print fibbonicc series"
   ]
  },
  {
   "cell_type": "code",
   "execution_count": 498,
   "id": "5ad817f5",
   "metadata": {},
   "outputs": [],
   "source": [
    "def fib(n):\n",
    "    n1=0\n",
    "    n2=1\n",
    "    while n2<n:\n",
    "        sum=n1+n2\n",
    "        n1=n2\n",
    "        n2=sum\n",
    "    return n2==n"
   ]
  },
  {
   "cell_type": "code",
   "execution_count": 499,
   "id": "498a1e7a",
   "metadata": {},
   "outputs": [],
   "source": [
    "def main(m,n):\n",
    "    for i in range(m,n+1):\n",
    "        if fib(i)==True:\n",
    "            print(i)"
   ]
  },
  {
   "cell_type": "code",
   "execution_count": 500,
   "id": "1b2bf7d1",
   "metadata": {},
   "outputs": [
    {
     "name": "stdout",
     "output_type": "stream",
     "text": [
      "1\n",
      "2\n",
      "3\n",
      "5\n",
      "8\n",
      "13\n",
      "21\n"
     ]
    }
   ],
   "source": [
    "main(1,25)"
   ]
  },
  {
   "cell_type": "code",
   "execution_count": null,
   "id": "cfaec787",
   "metadata": {},
   "outputs": [],
   "source": [
    "# wap harshad number  b/w range"
   ]
  },
  {
   "cell_type": "code",
   "execution_count": 501,
   "id": "e708fb9d",
   "metadata": {},
   "outputs": [],
   "source": [
    "def harshad(n,sum=0):\n",
    "    for i in str(n):\n",
    "        sum+=int(i)\n",
    "    if n%sum==0:\n",
    "        return True\n",
    "    return False\n"
   ]
  },
  {
   "cell_type": "code",
   "execution_count": 502,
   "id": "75b9c69f",
   "metadata": {},
   "outputs": [],
   "source": [
    "def main(m,n):\n",
    "    for i in range(m,n+1):\n",
    "        if harshad(i)==True:\n",
    "            print(i)"
   ]
  },
  {
   "cell_type": "code",
   "execution_count": 504,
   "id": "bee9653e",
   "metadata": {},
   "outputs": [
    {
     "name": "stdout",
     "output_type": "stream",
     "text": [
      "12\n",
      "18\n",
      "20\n"
     ]
    }
   ],
   "source": [
    "main(12,20)"
   ]
  },
  {
   "cell_type": "code",
   "execution_count": 517,
   "id": "2c981539",
   "metadata": {},
   "outputs": [],
   "source": [
    "from math import factorial\n",
    "def fact(n):\n",
    "    return factorial(n)"
   ]
  },
  {
   "cell_type": "code",
   "execution_count": 518,
   "id": "eeb132a0",
   "metadata": {},
   "outputs": [],
   "source": [
    "def main(l):\n",
    "    out=[]\n",
    "    for i in l:\n",
    "        if type(i)==list:\n",
    "            for j in i:\n",
    "                out+=[fact(j)]\n",
    "        else:\n",
    "            out+=[fact(i)]\n",
    "    return out"
   ]
  },
  {
   "cell_type": "code",
   "execution_count": 521,
   "id": "0985ec20",
   "metadata": {},
   "outputs": [
    {
     "data": {
      "text/plain": [
       "[24, 24, 24, 24, 24, 24, 24]"
      ]
     },
     "execution_count": 521,
     "metadata": {},
     "output_type": "execute_result"
    }
   ],
   "source": [
    "main([4,4,4,[4,4],[4,4]])"
   ]
  }
 ],
 "metadata": {
  "kernelspec": {
   "display_name": "Python 3 (ipykernel)",
   "language": "python",
   "name": "python3"
  },
  "language_info": {
   "codemirror_mode": {
    "name": "ipython",
    "version": 3
   },
   "file_extension": ".py",
   "mimetype": "text/x-python",
   "name": "python",
   "nbconvert_exporter": "python",
   "pygments_lexer": "ipython3",
   "version": "3.10.9"
  }
 },
 "nbformat": 4,
 "nbformat_minor": 5
}
